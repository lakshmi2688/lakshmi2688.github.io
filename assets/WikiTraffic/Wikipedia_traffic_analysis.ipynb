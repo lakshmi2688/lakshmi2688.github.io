{
 "cells": [
  {
   "cell_type": "markdown",
   "metadata": {},
   "source": [
    "**************************************************\n",
    "Step 1: Gathering the data\n",
    "**************************************************\n",
    "\n",
    "The goal of this assignment is to construct, analyze, and publish a dataset of monthly traffic on English Wikipedia from January 1 2008 through August 30 2020.\n",
    "\n",
    "We start with importing all the packages we need for doing the data analysis. "
   ]
  },
  {
   "cell_type": "code",
   "execution_count": 2823,
   "metadata": {},
   "outputs": [],
   "source": [
    "import json\n",
    "import requests\n",
    "import pandas as pd\n",
    "import numpy as np\n",
    "import matplotlib.pyplot as plt\n",
    "from matplotlib import dates\n",
    "\n",
    "# for displaying the plots inline\n",
    "%matplotlib inline"
   ]
  },
  {
   "cell_type": "markdown",
   "metadata": {},
   "source": [
    "In order to measure Wikipedia traffic from 2008-2020, you will need to collect data from two different API endpoints, the Legacy Pagecounts API and the Pageviews API.\n",
    "\n",
    "The Legacy Pagecounts API (documentation and endpoint links below) provides access to desktop and mobile traffic data from December 2007 through July 2016.\n",
    "https://wikitech.wikimedia.org/wiki/Analytics/AQS/Legacy_Pagecounts https://wikimedia.org/api/rest_v1/#/Pagecounts_data_(legacy)/get_metrics_legacy_pagecounts_aggregate_project_access_site_granularity_start_end\n",
    "\n",
    "The Pageviews API (documentation and endpoint links below) provides access to desktop, mobile web, and mobile app traffic data from July 2015 through last month.\n",
    "https://wikitech.wikimedia.org/wiki/Analytics/AQS/Pageviews\n",
    "https://wikimedia.org/api/rest_v1/#/Pageviews_data/get_metrics_pageviews_aggregate_project_access_agent_granularity_start_end\n",
    "\n",
    "The section below provides the API endpoints for Pagecounts and Pageview APIs with parameters to be passed provided within {}"
   ]
  },
  {
   "cell_type": "code",
   "execution_count": 2824,
   "metadata": {},
   "outputs": [],
   "source": [
    "#Gathering the data\n",
    "endpoint_legacy = 'https://wikimedia.org/api/rest_v1/metrics/legacy/pagecounts/aggregate/{project}/{access-site}/{granularity}/{start}/{end}'\n",
    "endpoint_pageviews = 'https://wikimedia.org/api/rest_v1/metrics/pageviews/aggregate/{project}/{access}/{agent}/{granularity}/{start}/{end}'"
   ]
  },
  {
   "cell_type": "markdown",
   "metadata": {},
   "source": [
    "The code snippet provides the parameters in dictionary format with key value pairs that will be passed into endpoint url for each of the access methods. As we're interested in organic (user) traffic, as opposed to traffic by web crawlers or spiders, the Pageview API allows you to filter by agent=user. So we will use this additional parameter for page view. Based on the API documentation, we also pass in the headers a unique User-Agent or Api-User-Agent such as Email addresses or URLs of contact pages.\n",
    "\n",
    "Please note that while Pageview API excludes spiders/crawlers, data from the Pagecounts API does not."
   ]
  },
  {
   "cell_type": "code",
   "execution_count": 2825,
   "metadata": {},
   "outputs": [],
   "source": [
    "#https://wikimedia.org/api/rest_v1/metrics/legacy/pagecounts/aggregate/en.wikipedia.org/desktop-site/monthly/2007120100/2016090100\n",
    "#https://wikimedia.org/api/rest_v1/metrics/legacy/pagecounts/aggregate/en.wikipedia.org/mobile-site/monthly/2007120100/2016090100\n",
    "#https://wikimedia.org/api/rest_v1/metrics/pageviews/aggregate/en.wikipedia.org/desktop/user/monthly/2015070100/2020090100\n",
    "#https://wikimedia.org/api/rest_v1/metrics/pageviews/aggregate/en.wikipedia.org/mobile-app/user/monthly/2015070100/2020090100\n",
    "#https://wikimedia.org/api/rest_v1/metrics/pageviews/aggregate/en.wikipedia.org/mobile-web/user/monthly/2015070100/2020090100\n",
    "\n",
    "\n",
    "desktop_params_legacy = {\"project\" : \"en.wikipedia.org\",\n",
    "                 \"access-site\" : \"desktop-site\",\n",
    "                 \"granularity\" : \"monthly\",\n",
    "                 \"start\" : \"2007120100\",\n",
    "                # for end use 1st day of month following final month of data\n",
    "                \"end\" : \"2016080100\"\n",
    "                    }\n",
    "\n",
    "mobile_params_legacy = {\"project\" : \"en.wikipedia.org\",\n",
    "                 \"access-site\" : \"mobile-site\",\n",
    "                 \"granularity\" : \"monthly\",\n",
    "                 \"start\" : \"2007120100\",\n",
    "                # for end use 1st day of month following final month of data\n",
    "                 \"end\" : \"2016080100\"\n",
    "                    }\n",
    "\n",
    "desktop_params_pageviews = {\"project\" : \"en.wikipedia.org\",\n",
    "                    \"access\" : \"desktop\",\n",
    "                    \"agent\" : \"user\",\n",
    "                    \"granularity\" : \"monthly\",\n",
    "                    \"start\" : \"2015070100\",\n",
    "                    # for end use 1st day of month following final month of data\n",
    "                    \"end\" : \"2020090100\"\n",
    "                        }\n",
    "\n",
    "mobileapp_params_pageviews = {\"project\" : \"en.wikipedia.org\",\n",
    "                    \"access\" : \"mobile-app\",\n",
    "                    \"agent\" : \"user\",\n",
    "                    \"granularity\" : \"monthly\",\n",
    "                    \"start\" : \"2015070100\",\n",
    "                    # for end use 1st day of month following final month of data\n",
    "                    \"end\" : \"2020090100\"\n",
    "                        }\n",
    "\n",
    "mobileweb_params_pageviews = {\"project\" : \"en.wikipedia.org\",\n",
    "                    \"access\" : \"mobile-web\",\n",
    "                    \"agent\" : \"user\",\n",
    "                    \"granularity\" : \"monthly\",\n",
    "                    \"start\" : \"2015070100\",\n",
    "                    # for end use 1st day of month following final month of data\n",
    "                    \"end\" : \"2020090100\"\n",
    "                        }\n",
    "\n",
    "# Customize these with your own information\n",
    "headers = {\n",
    "    'User-Agent': 'https://github.com/lakshmi2688',\n",
    "    'From': 'lvenkat@uw.edu'\n",
    "}"
   ]
  },
  {
   "cell_type": "markdown",
   "metadata": {},
   "source": [
    "In the below code snippet, we define a function api_call which takes endpoint and parameters as arguments. The requests.get() function takes in these arguments and makes a call to the API. Response is received in json format."
   ]
  },
  {
   "cell_type": "code",
   "execution_count": 2826,
   "metadata": {},
   "outputs": [],
   "source": [
    "def api_call(endpoint,parameters):\n",
    "    call = requests.get(endpoint.format(**parameters), headers=headers)\n",
    "    response = call.json()\n",
    "    \n",
    "    return response"
   ]
  },
  {
   "cell_type": "markdown",
   "metadata": {},
   "source": [
    "For each of the 5 access methods namely, mobile-app, mobile-web,desktop for pageviews and desktop-site and mobile-site for pagecounts, we pass the corresponding end points and parameters to api_call function defined above to get the response in json format."
   ]
  },
  {
   "cell_type": "code",
   "execution_count": 2827,
   "metadata": {},
   "outputs": [],
   "source": [
    "pagecounts_desktopsite_200712_201608 = api_call(endpoint_legacy, desktop_params_legacy)\n",
    "pagecounts_mobilesite_200712_201608 = api_call(endpoint_legacy, mobile_params_legacy)\n",
    "pageviews_desktop_201507_202009 = api_call(endpoint_pageviews, desktop_params_pageviews)\n",
    "pageviews_mobileapp_201507_202009 = api_call(endpoint_pageviews, mobileapp_params_pageviews)\n",
    "pageviews_mobileweb_201507_202009 = api_call(endpoint_pageviews, mobileweb_params_pageviews)"
   ]
  },
  {
   "cell_type": "markdown",
   "metadata": {},
   "source": [
    "Write the source files into json files"
   ]
  },
  {
   "cell_type": "code",
   "execution_count": 2828,
   "metadata": {},
   "outputs": [],
   "source": [
    "with open('C:/Users/Lakshmi/Desktop/UW DataScience application/Data 512/Week 1/pagecounts_desktop-site_200712-202008.json', 'w') as f:\n",
    "    json.dump(pagecounts_desktopsite_200712_201608, f, ensure_ascii=False)\n",
    "    \n",
    "with open('C:/Users/Lakshmi/Desktop/UW DataScience application/Data 512/Week 1/pagecounts_mobile-site_200712-202008.json', 'w') as f:\n",
    "    json.dump(pagecounts_mobilesite_200712_201608, f, ensure_ascii=False)\n",
    "    \n",
    "with open('C:/Users/Lakshmi/Desktop/UW DataScience application/Data 512/Week 1/pageviews_desktop_200712-202008.json', 'w') as f:\n",
    "    json.dump(pageviews_desktop_201507_202009, f, ensure_ascii=False)\n",
    "    \n",
    "with open('C:/Users/Lakshmi/Desktop/UW DataScience application/Data 512/Week 1/pageviews_mobile-app_200712-202008.json', 'w') as f:\n",
    "    json.dump(pageviews_mobileapp_201507_202009, f, ensure_ascii=False)\n",
    "    \n",
    "with open('C:/Users/Lakshmi/Desktop/UW DataScience application/Data 512/Week 1/pageviews_mobile-web_200712-202008.json', 'w') as f:\n",
    "    json.dump(pageviews_mobileweb_201507_202009, f, ensure_ascii=False)"
   ]
  },
  {
   "cell_type": "markdown",
   "metadata": {},
   "source": [
    "**************************************************\n",
    "Step 2: Processing the data\n",
    "**************************************************\n",
    "For all data, we separate the value of timestamp into four-digit year (YYYY) and two-digit month (MM) by iterating through the list of dictionary and slicing the timestamp."
   ]
  },
  {
   "cell_type": "code",
   "execution_count": 2829,
   "metadata": {},
   "outputs": [],
   "source": [
    "for item in pageviews_mobileapp_201507_202009[\"items\"]:\n",
    "    item[\"Year\"] = item[\"timestamp\"][0:4]\n",
    "    item[\"month\"] = item[\"timestamp\"][4:6]"
   ]
  },
  {
   "cell_type": "code",
   "execution_count": 2830,
   "metadata": {},
   "outputs": [],
   "source": [
    "for item in pageviews_mobileweb_201507_202009[\"items\"]:\n",
    "    item[\"Year\"] = item[\"timestamp\"][0:4]\n",
    "    item[\"month\"] = item[\"timestamp\"][4:6]"
   ]
  },
  {
   "cell_type": "code",
   "execution_count": 2831,
   "metadata": {},
   "outputs": [],
   "source": [
    "for item in pageviews_desktop_201507_202009[\"items\"]:\n",
    "    item[\"Year\"] = item[\"timestamp\"][0:4]\n",
    "    item[\"month\"] = item[\"timestamp\"][4:6]"
   ]
  },
  {
   "cell_type": "code",
   "execution_count": 2832,
   "metadata": {},
   "outputs": [],
   "source": [
    "for item in pagecounts_desktopsite_200712_201609[\"items\"]:\n",
    "    item[\"Year\"] = item[\"timestamp\"][0:4]\n",
    "    item[\"month\"] = item[\"timestamp\"][4:6]"
   ]
  },
  {
   "cell_type": "code",
   "execution_count": 2833,
   "metadata": {},
   "outputs": [],
   "source": [
    "for item in pagecounts_mobilesite_200712_201609[\"items\"]:\n",
    "    item[\"Year\"] = item[\"timestamp\"][0:4]\n",
    "    item[\"month\"] = item[\"timestamp\"][4:6]"
   ]
  },
  {
   "cell_type": "markdown",
   "metadata": {},
   "source": [
    "For performing further data analysis, we would need to convert the dict into a dataframe. In order to do this,\n",
    "we first convert dict to json string using json.dumps() function. Then json string is converted to python dataframe by using pd.read_json function.We pass the value convert_dates = False to read_json so that format of timestamp is not changed."
   ]
  },
  {
   "cell_type": "code",
   "execution_count": 2834,
   "metadata": {},
   "outputs": [],
   "source": [
    "pageviews_mobileapp_201507_202009_str = json.dumps(pageviews_mobileapp_201507_202009[\"items\"])\n",
    "df1a = pd.read_json(pageviews_mobileapp_201507_202009_str,convert_dates = False)\n",
    "\n",
    "pageviews_mobileweb_201507_202009_str = json.dumps(pageviews_mobileweb_201507_202009[\"items\"])\n",
    "df1b = pd.read_json(pageviews_mobileweb_201507_202009_str,convert_dates = False)\n",
    "\n",
    "pageviews_desktop_201507_202009_str = json.dumps(pageviews_desktop_201507_202009[\"items\"])\n",
    "df2 = pd.read_json(pageviews_desktop_201507_202009_str,convert_dates = False)\n",
    "\n",
    "pagecounts_mobilesite_200712_201609_str = json.dumps(pagecounts_mobilesite_200712_201609[\"items\"])\n",
    "df3 = pd.read_json(pagecounts_mobilesite_200712_201609_str,convert_dates = False)\n",
    "\n",
    "pagecounts_desktopsite_200712_201609_str = json.dumps(pagecounts_desktopsite_200712_201609[\"items\"])\n",
    "df4 = pd.read_json(pagecounts_desktopsite_200712_201609_str,convert_dates = False)"
   ]
  },
  {
   "cell_type": "markdown",
   "metadata": {},
   "source": [
    "Once we have all the dataframes, \n",
    "1)Combine the monthly values for mobile-app and mobile-web to create total mobile traffic count for each month.\n",
    "This is 'pageviews_mobile' dataframe. \n",
    "2)Combine pageview mobile and pageview desktop into a single pageview dataframe namely 'pageviews_all'\n",
    "3)Combine pagecount mobile and pagecount desktop into a single pagecount dataframe namely 'pagecounts_all'"
   ]
  },
  {
   "cell_type": "code",
   "execution_count": 2835,
   "metadata": {},
   "outputs": [],
   "source": [
    "#Combine the monthly values for mobile-app and mobile-web to create total mobile traffic count for each month.\n",
    "pageviews_mobile = pd.DataFrame(np.vstack([df1a,df1b]))\n",
    "\n",
    "#Combine pageview mobile and pageview desktop into a single pageview dataframe namely 'pageviews_all'\n",
    "pageviews_all = pd.DataFrame(np.vstack([pageviews_mobile, df2]))\n",
    "\n",
    "#Combine pagecount mobile and pagecount desktop into a single pagecount dataframe namely 'pagecounts_all'\n",
    "pagecounts_all = pd.DataFrame(np.vstack([df4,df3]))"
   ]
  },
  {
   "cell_type": "markdown",
   "metadata": {},
   "source": [
    "Drop all the unwanted columns based on index. We remove the columns project, granularity, timestamp for pagecounts and pageview. In addition, we also remove agent column for pageview. After this, we reset the column index."
   ]
  },
  {
   "cell_type": "code",
   "execution_count": 2836,
   "metadata": {},
   "outputs": [],
   "source": [
    "pageviews_all.drop(pageviews_all.columns[[0, 2, 3, 4]], axis=1, inplace=True)\n",
    "pageviews_all.columns = range(pageviews_all.shape[1]) \n",
    "\n",
    "pagecounts_all.drop(pageviews_all.columns[[0, 2, 3]], axis=1, inplace=True)\n",
    "pagecounts_all.columns = range(pagecounts_all.shape[1]) "
   ]
  },
  {
   "cell_type": "markdown",
   "metadata": {},
   "source": [
    "We should have 4 columns for each dataframe now"
   ]
  },
  {
   "cell_type": "code",
   "execution_count": 2837,
   "metadata": {},
   "outputs": [
    {
     "name": "stdout",
     "output_type": "stream",
     "text": [
      "pagecounts_all.shape (126, 4)\n",
      "pageviews_all.shape (186, 4)\n"
     ]
    }
   ],
   "source": [
    "print(\"pagecounts_all.shape\",pagecounts_all.shape)\n",
    "print(\"pageviews_all.shape\",pageviews_all.shape)"
   ]
  },
  {
   "cell_type": "markdown",
   "metadata": {},
   "source": [
    "Combine pageviews and pagecounts data into one dataframe. The combine datset should have 312 rows and 4 columns\n",
    "We raname the columns from int index to string headers"
   ]
  },
  {
   "cell_type": "code",
   "execution_count": 2838,
   "metadata": {},
   "outputs": [
    {
     "name": "stdout",
     "output_type": "stream",
     "text": [
      "df_all.shape (312, 4)\n"
     ]
    }
   ],
   "source": [
    "#combine all the data into one\n",
    "df_all = pd.DataFrame(np.vstack([pagecounts_all,pageviews_all]))\n",
    "print(\"df_all.shape\",df_all.shape)\n",
    "\n",
    "#Rename the columns\n",
    "df_all.columns = [\"Source\",\"Views\",\"Year\",\"Month\"]"
   ]
  },
  {
   "cell_type": "markdown",
   "metadata": {},
   "source": [
    "We pivot the data frame by converting rows 'source' into columns aggregating values by taking the first observation in the group.We can also use np.sum aggregation as there's only one observation per group. The results won't change. We can also fill missing values using the fill_value parameter."
   ]
  },
  {
   "cell_type": "code",
   "execution_count": 2839,
   "metadata": {},
   "outputs": [],
   "source": [
    "df_all = pd.pivot_table(df_all, values =['Views'], index=['Year','Month'], columns=['Source'],fill_value=0, aggfunc='first')"
   ]
  },
  {
   "cell_type": "markdown",
   "metadata": {},
   "source": [
    "We further format the pivot table by returning DataFrame with requested index / column level(s) removed, rename the columns to none and resetting the index inplace to get the dataframe structure."
   ]
  },
  {
   "cell_type": "code",
   "execution_count": 2840,
   "metadata": {},
   "outputs": [],
   "source": [
    "df_all.columns = df_all.columns.droplevel(0)\n",
    "df_all.columns.rename(None, inplace=True)\n",
    "df_all.reset_index(inplace=True)"
   ]
  },
  {
   "cell_type": "markdown",
   "metadata": {},
   "source": [
    "Create a new column\"mobile\" that combines pageview mobile-web and mobile-app data. We then drop the individual columns mobiel-app and mobile-web"
   ]
  },
  {
   "cell_type": "code",
   "execution_count": 2841,
   "metadata": {},
   "outputs": [],
   "source": [
    "df_all[\"mobile\"] = df_all[\"mobile-app\"] + df_all[\"mobile-web\"] \n",
    "df_all.drop([\"mobile-web\",\"mobile-app\"], axis=1, inplace=True)\n"
   ]
  },
  {
   "cell_type": "markdown",
   "metadata": {},
   "source": [
    "We rename the columns inplace even more suitably"
   ]
  },
  {
   "cell_type": "code",
   "execution_count": 2842,
   "metadata": {},
   "outputs": [],
   "source": [
    "df_all.rename(columns={'Year': 'year', 'Month': 'month', 'desktop': 'pageview_desktop_views', 'mobile': 'pageview_mobile_views', 'desktop-site': 'pagecount_desktop_views', 'mobile-site': 'pagecount_mobile_views'}, inplace=True)"
   ]
  },
  {
   "cell_type": "markdown",
   "metadata": {},
   "source": [
    "Our dataframe looks like below at this stage:"
   ]
  },
  {
   "cell_type": "code",
   "execution_count": 2843,
   "metadata": {
    "scrolled": true
   },
   "outputs": [
    {
     "data": {
      "text/html": [
       "<div>\n",
       "<style scoped>\n",
       "    .dataframe tbody tr th:only-of-type {\n",
       "        vertical-align: middle;\n",
       "    }\n",
       "\n",
       "    .dataframe tbody tr th {\n",
       "        vertical-align: top;\n",
       "    }\n",
       "\n",
       "    .dataframe thead th {\n",
       "        text-align: right;\n",
       "    }\n",
       "</style>\n",
       "<table border=\"1\" class=\"dataframe\">\n",
       "  <thead>\n",
       "    <tr style=\"text-align: right;\">\n",
       "      <th></th>\n",
       "      <th>year</th>\n",
       "      <th>month</th>\n",
       "      <th>pageview_desktop_views</th>\n",
       "      <th>pagecount_desktop_views</th>\n",
       "      <th>pagecount_mobile_views</th>\n",
       "      <th>pageview_mobile_views</th>\n",
       "    </tr>\n",
       "  </thead>\n",
       "  <tbody>\n",
       "    <tr>\n",
       "      <th>0</th>\n",
       "      <td>2007</td>\n",
       "      <td>12</td>\n",
       "      <td>0</td>\n",
       "      <td>2998331524</td>\n",
       "      <td>0</td>\n",
       "      <td>0</td>\n",
       "    </tr>\n",
       "    <tr>\n",
       "      <th>1</th>\n",
       "      <td>2008</td>\n",
       "      <td>1</td>\n",
       "      <td>0</td>\n",
       "      <td>4930902570</td>\n",
       "      <td>0</td>\n",
       "      <td>0</td>\n",
       "    </tr>\n",
       "    <tr>\n",
       "      <th>2</th>\n",
       "      <td>2008</td>\n",
       "      <td>2</td>\n",
       "      <td>0</td>\n",
       "      <td>4818393763</td>\n",
       "      <td>0</td>\n",
       "      <td>0</td>\n",
       "    </tr>\n",
       "    <tr>\n",
       "      <th>3</th>\n",
       "      <td>2008</td>\n",
       "      <td>3</td>\n",
       "      <td>0</td>\n",
       "      <td>4955405809</td>\n",
       "      <td>0</td>\n",
       "      <td>0</td>\n",
       "    </tr>\n",
       "    <tr>\n",
       "      <th>4</th>\n",
       "      <td>2008</td>\n",
       "      <td>4</td>\n",
       "      <td>0</td>\n",
       "      <td>5159162183</td>\n",
       "      <td>0</td>\n",
       "      <td>0</td>\n",
       "    </tr>\n",
       "  </tbody>\n",
       "</table>\n",
       "</div>"
      ],
      "text/plain": [
       "   year  month  pageview_desktop_views  pagecount_desktop_views  \\\n",
       "0  2007     12                       0               2998331524   \n",
       "1  2008      1                       0               4930902570   \n",
       "2  2008      2                       0               4818393763   \n",
       "3  2008      3                       0               4955405809   \n",
       "4  2008      4                       0               5159162183   \n",
       "\n",
       "   pagecount_mobile_views  pageview_mobile_views  \n",
       "0                       0                      0  \n",
       "1                       0                      0  \n",
       "2                       0                      0  \n",
       "3                       0                      0  \n",
       "4                       0                      0  "
      ]
     },
     "execution_count": 2843,
     "metadata": {},
     "output_type": "execute_result"
    }
   ],
   "source": [
    "df_all.head()"
   ]
  },
  {
   "cell_type": "markdown",
   "metadata": {},
   "source": [
    "Create 2 more columns \"pageview_all_views\" which combines pageview mobile and pageview desktop data, and \"pagecount_all_views\" which combines pagecount desktop and pagecount mobile data"
   ]
  },
  {
   "cell_type": "code",
   "execution_count": 2844,
   "metadata": {},
   "outputs": [],
   "source": [
    "df_all[\"pageview_all_views\"] = df_all[\"pageview_desktop_views\"] + df_all[\"pageview_mobile_views\"]\n",
    "df_all[\"pagecount_all_views\"] = df_all[\"pagecount_mobile_views\"] + df_all[\"pagecount_desktop_views\"]\n"
   ]
  },
  {
   "cell_type": "markdown",
   "metadata": {},
   "source": [
    "Our dataframe looks like below at this stage:"
   ]
  },
  {
   "cell_type": "code",
   "execution_count": 2845,
   "metadata": {},
   "outputs": [
    {
     "data": {
      "text/html": [
       "<div>\n",
       "<style scoped>\n",
       "    .dataframe tbody tr th:only-of-type {\n",
       "        vertical-align: middle;\n",
       "    }\n",
       "\n",
       "    .dataframe tbody tr th {\n",
       "        vertical-align: top;\n",
       "    }\n",
       "\n",
       "    .dataframe thead th {\n",
       "        text-align: right;\n",
       "    }\n",
       "</style>\n",
       "<table border=\"1\" class=\"dataframe\">\n",
       "  <thead>\n",
       "    <tr style=\"text-align: right;\">\n",
       "      <th></th>\n",
       "      <th>year</th>\n",
       "      <th>month</th>\n",
       "      <th>pageview_desktop_views</th>\n",
       "      <th>pagecount_desktop_views</th>\n",
       "      <th>pagecount_mobile_views</th>\n",
       "      <th>pageview_mobile_views</th>\n",
       "      <th>pageview_all_views</th>\n",
       "      <th>pagecount_all_views</th>\n",
       "    </tr>\n",
       "  </thead>\n",
       "  <tbody>\n",
       "    <tr>\n",
       "      <th>0</th>\n",
       "      <td>2007</td>\n",
       "      <td>12</td>\n",
       "      <td>0</td>\n",
       "      <td>2998331524</td>\n",
       "      <td>0</td>\n",
       "      <td>0</td>\n",
       "      <td>0</td>\n",
       "      <td>2998331524</td>\n",
       "    </tr>\n",
       "    <tr>\n",
       "      <th>1</th>\n",
       "      <td>2008</td>\n",
       "      <td>1</td>\n",
       "      <td>0</td>\n",
       "      <td>4930902570</td>\n",
       "      <td>0</td>\n",
       "      <td>0</td>\n",
       "      <td>0</td>\n",
       "      <td>4930902570</td>\n",
       "    </tr>\n",
       "    <tr>\n",
       "      <th>2</th>\n",
       "      <td>2008</td>\n",
       "      <td>2</td>\n",
       "      <td>0</td>\n",
       "      <td>4818393763</td>\n",
       "      <td>0</td>\n",
       "      <td>0</td>\n",
       "      <td>0</td>\n",
       "      <td>4818393763</td>\n",
       "    </tr>\n",
       "    <tr>\n",
       "      <th>3</th>\n",
       "      <td>2008</td>\n",
       "      <td>3</td>\n",
       "      <td>0</td>\n",
       "      <td>4955405809</td>\n",
       "      <td>0</td>\n",
       "      <td>0</td>\n",
       "      <td>0</td>\n",
       "      <td>4955405809</td>\n",
       "    </tr>\n",
       "    <tr>\n",
       "      <th>4</th>\n",
       "      <td>2008</td>\n",
       "      <td>4</td>\n",
       "      <td>0</td>\n",
       "      <td>5159162183</td>\n",
       "      <td>0</td>\n",
       "      <td>0</td>\n",
       "      <td>0</td>\n",
       "      <td>5159162183</td>\n",
       "    </tr>\n",
       "  </tbody>\n",
       "</table>\n",
       "</div>"
      ],
      "text/plain": [
       "   year  month  pageview_desktop_views  pagecount_desktop_views  \\\n",
       "0  2007     12                       0               2998331524   \n",
       "1  2008      1                       0               4930902570   \n",
       "2  2008      2                       0               4818393763   \n",
       "3  2008      3                       0               4955405809   \n",
       "4  2008      4                       0               5159162183   \n",
       "\n",
       "   pagecount_mobile_views  pageview_mobile_views  pageview_all_views  \\\n",
       "0                       0                      0                   0   \n",
       "1                       0                      0                   0   \n",
       "2                       0                      0                   0   \n",
       "3                       0                      0                   0   \n",
       "4                       0                      0                   0   \n",
       "\n",
       "   pagecount_all_views  \n",
       "0           2998331524  \n",
       "1           4930902570  \n",
       "2           4818393763  \n",
       "3           4955405809  \n",
       "4           5159162183  "
      ]
     },
     "execution_count": 2845,
     "metadata": {},
     "output_type": "execute_result"
    }
   ],
   "source": [
    "df_all.head()"
   ]
  },
  {
   "cell_type": "markdown",
   "metadata": {},
   "source": [
    "Write all data into a single CSV file 'en-wikipedia_traffic_200712-202008.csv'"
   ]
  },
  {
   "cell_type": "code",
   "execution_count": 2846,
   "metadata": {},
   "outputs": [],
   "source": [
    "df_all.to_csv('C:/Users/Lakshmi/Desktop/UW DataScience application/Data 512/Week 1/en-wikipedia_traffic_200712-202009.csv', index=False, encoding='utf-8')"
   ]
  },
  {
   "cell_type": "markdown",
   "metadata": {},
   "source": [
    "**************************************************\n",
    "Step 3: Analyze the data\n",
    "**************************************************\n",
    "We start analyzing the data by eveluating the datatypes. "
   ]
  },
  {
   "cell_type": "code",
   "execution_count": 2847,
   "metadata": {},
   "outputs": [
    {
     "data": {
      "text/plain": [
       "year                       int64\n",
       "month                      int64\n",
       "pageview_desktop_views     int64\n",
       "pagecount_desktop_views    int64\n",
       "pagecount_mobile_views     int64\n",
       "pageview_mobile_views      int64\n",
       "pageview_all_views         int64\n",
       "pagecount_all_views        int64\n",
       "dtype: object"
      ]
     },
     "execution_count": 2847,
     "metadata": {},
     "output_type": "execute_result"
    }
   ],
   "source": [
    "df_all.dtypes"
   ]
  },
  {
   "cell_type": "markdown",
   "metadata": {},
   "source": [
    "In order to convert the data into time series data, \n",
    "1)We combine the year and month into a datetime format. We assign the day of the month as 1 as day information is not available. This assignment is reasonable as we are analyzing the monthly data. \n",
    "2)Inorder to get rid of leading and trailing zeros in time series data, we reset the index and convert into dataframe format and use slicing to get rid of leading and trailing zeros.\n",
    "3) After removing leading and trailing zeros, set the date as index again and plot the series that has pagecount/pageview values vs date as index\n",
    "4) Repeat this for all the required plots"
   ]
  },
  {
   "cell_type": "code",
   "execution_count": 2848,
   "metadata": {},
   "outputs": [
    {
     "data": {
      "image/png": "[encoded data removed]",
      "text/plain": [
       "<Figure size 1080x432 with 1 Axes>"
      ]
     },
     "metadata": {
      "needs_background": "light"
     },
     "output_type": "display_data"
    }
   ],
   "source": [
    "fig, ax = plt.subplots(figsize=(15, 6))\n",
    "\n",
    "ax.set_title('Page Views on English Wikipedia')\n",
    "ax.grid(True)\n",
    "\n",
    "# We convert the dataframe into series structure by setting the index to YYY-MM-DD format\n",
    "df = df_all.set_index(pd.to_datetime(df_all[['year','month']].assign(day=1)))['pagecount_all_views']\n",
    "# inorder to get rid of leading and trailing zeros, we reset the index and convert into dataframe format and get the index where values are non zeros from top and bottom\n",
    "df = df.reset_index().loc[df_all['pagecount_all_views'].ne(0).idxmax():df_all['pagecount_all_views'].ne(0)[::-1].idxmax()]\n",
    "#after removing leading and trailing zeros, set the date as index again and plot the series that has pagecount values and date as index\n",
    "ax = df.set_index(df['index'])['pagecount_all_views'].plot(color='tab:red', linestyle='--', label='total')\n",
    "\n",
    "# We convert the dataframe into series structure by setting the index to YYY-MM-DD format\n",
    "df = df_all.set_index(pd.to_datetime(df_all[['year','month']].assign(day=1)))['pagecount_mobile_views']\n",
    "# inorder to get rid of leading and trailing zeros, we reset the index and convert into dataframe format and get the index where values are non zeros from top and bottom\n",
    "df= df.reset_index().loc[df_all['pagecount_mobile_views'].ne(0).idxmax():df_all['pagecount_mobile_views'].ne(0)[::-1].idxmax()]\n",
    "#after removing leading and trailing zeros, set the date as index again and plot the series that has pagecount values and date as index\n",
    "ax = df.set_index(df['index'])['pagecount_mobile_views'].plot(color='tab:blue', linestyle='--', label='mobile site')\n",
    "\n",
    "# We convert the dataframe into series structure by setting the index to YYY-MM-DD format\n",
    "df = df_all.set_index(pd.to_datetime(df_all[['year','month']].assign(day=1)))['pagecount_desktop_views']\n",
    "# inorder to get rid of leading and trailing zeros, we reset the index and convert into dataframe format and get the index where values are non zeros from top and bottom\n",
    "df= df.reset_index().loc[df_all['pagecount_desktop_views'].ne(0).idxmax():df_all['pagecount_desktop_views'].ne(0)[::-1].idxmax()]\n",
    "#after removing leading and trailing zeros, set the date as index again and plot the series that has pagecount values and date as index\n",
    "ax = df.set_index(df['index'])['pagecount_desktop_views'].plot(color='tab:green', linestyle='--', label='main site')\n",
    "\n",
    "# We convert the dataframe into series structure by setting the index to YYY-MM-DD format\n",
    "df = df_all.set_index(pd.to_datetime(df_all[['year','month']].assign(day=1)))['pageview_all_views']\n",
    "# inorder to get rid of leading and trailing zeros, we reset the index and convert into dataframe format and get the index where values are non zeros from top and bottom\n",
    "df= df.reset_index().loc[df_all['pageview_all_views'].ne(0).idxmax():df_all['pageview_all_views'].ne(0)[::-1].idxmax()]\n",
    "#after removing leading and trailing zeros, set the date as index again and plot the series that has pageview values and date as index\n",
    "ax = df.set_index(df['index'])['pageview_all_views'].plot(color='tab:red', linestyle='-', label='total')\n",
    "\n",
    "# We convert the dataframe into series structure by setting the index to YYY-MM-DD format\n",
    "df = df_all.set_index(pd.to_datetime(df_all[['year','month']].assign(day=1)))['pageview_mobile_views']\n",
    "# inorder to get rid of leading and trailing zeros, we reset the index and convert into dataframe format and get the index where values are non zeros from top and bottom\n",
    "df= df.reset_index().loc[df_all['pageview_mobile_views'].ne(0).idxmax():df_all['pageview_mobile_views'].ne(0)[::-1].idxmax()]\n",
    "#after removing leading and trailing zeros, set the date as index again and plot the series that has pageview values and date as index\n",
    "ax = df.set_index(df['index'])['pageview_mobile_views'].plot(color='tab:blue', linestyle='-', label='mobile site')\n",
    "\n",
    "# We convert the dataframe into series structure by setting the index to YYY-MM-DD format\n",
    "df = df_all.set_index(pd.to_datetime(df_all[['year','month']].assign(day=1)))['pageview_desktop_views']\n",
    "# inorder to get rid of leading and trailing zeros, we reset the index and convert into dataframe format and get the index where values are non zeros from top and bottom\n",
    "df = df.reset_index().loc[df_all['pageview_desktop_views'].ne(0).idxmax():df_all['pageview_desktop_views'].ne(0)[::-1].idxmax()]\n",
    "#after removing leading and trailing zeros, set the date as index again and plot the series that has pageview values and date as index\n",
    "ax = df.set_index(df['index'])['pageview_desktop_views'].plot(color='tab:green', linestyle='-', label='main site')\n",
    "\n",
    "# Set all the minor and major grid lines both in x axis and y axis direction\n",
    "ax.xaxis.grid(True, which=\"minor\")\n",
    "ax.xaxis.grid(True, which=\"major\")\n",
    "ax.yaxis.grid(True, which=\"minor\")\n",
    "ax.yaxis.grid(True, which=\"major\")\n",
    "\n",
    "# label the xaxis as below\n",
    "ax.set_xlabel('May 2015 : A new pageview definition took effect which eliminated all crawler traffic. Solid lines mark new defintion',color='tab:red')\n",
    "\n",
    "# Handling of getting lines and labels from all axes for a single legend\n",
    "lines, labels = ax.get_legend_handles_labels()\n",
    "ax.legend(lines, labels, loc='upper left');"
   ]
  },
  {
   "cell_type": "markdown",
   "metadata": {},
   "source": [
    "Save the above plot into a jpg file 'en-wikipedia_traffic_200712-202009.jpg'"
   ]
  },
  {
   "cell_type": "code",
   "execution_count": 2849,
   "metadata": {},
   "outputs": [],
   "source": [
    "fig.savefig('C:/Users/Lakshmi/Desktop/UW DataScience application/Data 512/Week 1/en-wikipedia_traffic_200712-202009.jpg')"
   ]
  }
 ],
 "metadata": {
  "kernelspec": {
   "display_name": "Python 3",
   "language": "python",
   "name": "python3"
  },
  "language_info": {
   "codemirror_mode": {
    "name": "ipython",
    "version": 3
   },
   "file_extension": ".py",
   "mimetype": "text/x-python",
   "name": "python",
   "nbconvert_exporter": "python",
   "pygments_lexer": "ipython3",
   "version": "3.8.2"
  }
 },
 "nbformat": 4,
 "nbformat_minor": 4
}
